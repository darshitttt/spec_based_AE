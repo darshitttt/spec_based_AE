{
 "cells": [
  {
   "cell_type": "code",
   "execution_count": 2,
   "metadata": {},
   "outputs": [],
   "source": [
    "import models\n",
    "import sklearn.metrics as metrics\n",
    "import numpy as np\n",
    "import torch\n",
    "import os\n",
    "import json\n",
    "import pandas as pd"
   ]
  },
  {
   "cell_type": "code",
   "execution_count": 3,
   "metadata": {},
   "outputs": [],
   "source": [
    "def classification_report(y_true, y_preds, label_list):\n",
    "    yt = np.concatenate(y_true)\n",
    "    yp = np.concatenate(y_preds)\n",
    "\n",
    "    report = metrics.classification_report(yt, yp, target_names=label_list, output_dict=True)\n",
    "    return report\n",
    "\n",
    "def save_json_report(fname, report):\n",
    "    with open(fname, 'w') as fp:\n",
    "        json.dump(report, fp, indent=2)\n",
    "\n",
    "def save_csv_report(fname, report):\n",
    "    csv_df = pd.DataFrame(report).transpose()\n",
    "    csv_df.to_csv(fname, index=False)\n",
    "\n",
    "def save_report(y_true, y_preds, label_list, fname):\n",
    "    report = classification_report(y_true, y_preds, label_list)\n",
    "    csv_fname = fname + '.csv'\n",
    "    json_fname = fname + '.json'\n",
    "\n",
    "    save_json_report(json_fname, report)\n",
    "    save_csv_report(csv_fname, report)\n",
    "\n"
   ]
  },
  {
   "cell_type": "code",
   "execution_count": null,
   "metadata": {},
   "outputs": [],
   "source": []
  }
 ],
 "metadata": {
  "kernelspec": {
   "display_name": "noiseremoval",
   "language": "python",
   "name": "python3"
  },
  "language_info": {
   "codemirror_mode": {
    "name": "ipython",
    "version": 3
   },
   "file_extension": ".py",
   "mimetype": "text/x-python",
   "name": "python",
   "nbconvert_exporter": "python",
   "pygments_lexer": "ipython3",
   "version": "3.11.5"
  }
 },
 "nbformat": 4,
 "nbformat_minor": 2
}
