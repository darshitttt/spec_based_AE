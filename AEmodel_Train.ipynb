{
 "cells": [
  {
   "cell_type": "code",
   "execution_count": 13,
   "metadata": {},
   "outputs": [],
   "source": [
    "import pandas as pd\n",
    "import numpy as np\n",
    "import torch.nn as nn\n",
    "import torch.optim as optim\n",
    "from IPython.display import display, Audio\n",
    "import os\n",
    "import audio_utils\n",
    "import random\n",
    "from torch.utils.data import Dataset, DataLoader"
   ]
  },
  {
   "cell_type": "code",
   "execution_count": 12,
   "metadata": {},
   "outputs": [
    {
     "data": {
      "text/plain": [
       "'../audioData/NIGENS/NIGENS/alarm/Alarm_FactoryBuzzer_Loop_SFX-KIT.wav'"
      ]
     },
     "execution_count": 12,
     "metadata": {},
     "output_type": "execute_result"
    }
   ],
   "source": [
    "bg_dir = '../../LibriVox_Kaggle/BGnoise/'\n",
    "rir_dir = '../../RIR/MIT_IR_Survey/Audio/'\n",
    "bg_files = os.listdir(bg_dir)\n",
    "rir_files = os.listdir(rir_dir)[1:]\n",
    "\n",
    "csv_f = 'Librivox_fnames.csv'\n",
    "csv_f0 = '../speechRemoval/fin_dataframe.csv'\n",
    "\n",
    "df0 = pd.read_csv(csv_f0)\n",
    "df = pd.read_csv(csv_f)"
   ]
  },
  {
   "cell_type": "code",
   "execution_count": 15,
   "metadata": {},
   "outputs": [],
   "source": [
    "class audioDataset(Dataset):\n",
    "\n",
    "    def __init__(self, clean_aud_df, noise_df):\n",
    "        self.clean_df = clean_aud_df\n",
    "        self.noise_df = noise_df\n",
    "        self.SNR = [10]\n",
    "\n",
    "    def __len__(self):\n",
    "        return len(self.clean_df)\n",
    "    \n",
    "    def __getitem__(self, index):\n",
    "\n",
    "        audio_path = self.clean_df[index]\n",
    "        noise_path_1 = random.choice(self.noise_df['file1'])\n",
    "        self.SNR = [10]\n",
    "        \n",
    "        noise = audio_utils.add_two_noise([audio_path, noise_path_1], self.SNR)\n",
    "        noise_feats = audio_utils.get_random_audioFeatures(noise)\n",
    "\n",
    "        return noise, noise_feats"
   ]
  },
  {
   "cell_type": "code",
   "execution_count": 21,
   "metadata": {},
   "outputs": [],
   "source": [
    "from sklearn.model_selection import train_test_split\n",
    "\n",
    "split = (int)(len(df)*0.8)\n",
    "train_dataset = audioDataset(df[0:split], df0)\n",
    "test_dataset = audioDataset(df[split:], df0)\n",
    "\n",
    "# Create data loaders\n",
    "train_loader = DataLoader(train_dataset, batch_size=8, shuffle=True)\n",
    "test_loader = DataLoader(test_dataset, batch_size=8, shuffle=False)"
   ]
  }
 ],
 "metadata": {
  "kernelspec": {
   "display_name": "noiseremoval",
   "language": "python",
   "name": "python3"
  },
  "language_info": {
   "codemirror_mode": {
    "name": "ipython",
    "version": 3
   },
   "file_extension": ".py",
   "mimetype": "text/x-python",
   "name": "python",
   "nbconvert_exporter": "python",
   "pygments_lexer": "ipython3",
   "version": "3.11.5"
  }
 },
 "nbformat": 4,
 "nbformat_minor": 2
}
