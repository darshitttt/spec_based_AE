{
 "cells": [
  {
   "cell_type": "code",
   "execution_count": 28,
   "metadata": {},
   "outputs": [],
   "source": [
    "import models\n",
    "import audio_utils\n",
    "import torch\n",
    "from torch.utils.data import Dataset, DataLoader\n",
    "import torch.optim as optim\n",
    "import librosa\n",
    "import torch.nn as nn\n",
    "import os\n",
    "import random\n",
    "import pandas as pd\n",
    "import numpy as np"
   ]
  },
  {
   "cell_type": "code",
   "execution_count": 29,
   "metadata": {},
   "outputs": [
    {
     "data": {
      "text/plain": [
       "<All keys matched successfully>"
      ]
     },
     "execution_count": 29,
     "metadata": {},
     "output_type": "execute_result"
    }
   ],
   "source": [
    "model = models.BL_Decoder_Classifier()\n",
    "model.load_state_dict(torch.load('models/AE_classifier_model_01.pt'))"
   ]
  },
  {
   "cell_type": "code",
   "execution_count": 34,
   "metadata": {},
   "outputs": [
    {
     "data": {
      "text/plain": [
       "<All keys matched successfully>"
      ]
     },
     "execution_count": 34,
     "metadata": {},
     "output_type": "execute_result"
    }
   ],
   "source": [
    "encoder = models.logMelAE()\n",
    "encoder.load_state_dict(torch.load('models/logMelAE_model_02.pt'))"
   ]
  },
  {
   "cell_type": "code",
   "execution_count": 33,
   "metadata": {},
   "outputs": [
    {
     "data": {
      "text/plain": [
       "('../audioData/NIGENS/NIGENS/femaleScream/219868__polmdx__old-woman-scream.wav',\n",
       " '../audioData/NIGENS/NIGENS/phone/Telephone_DIGIP02-63.wav')"
      ]
     },
     "execution_count": 33,
     "metadata": {},
     "output_type": "execute_result"
    }
   ],
   "source": [
    "#rand_fn = '../speechRemoval/fin_dataframe.csv'\n",
    "rand_fn = 'new_NIGENS_df.csv'\n",
    "df = pd.read_csv(rand_fn)\n",
    "\n",
    "f1 = random.choice(df['file1'])\n",
    "f2 = random.choice(df['file2'])\n",
    "snr = [5]\n",
    "\n",
    "noise = audio_utils.add_two_noise([f1,f2], snr)\n",
    "feats_ = audio_utils.get_random_audioFeatures(noise)\n",
    "\n",
    "f1, f2"
   ]
  },
  {
   "cell_type": "code",
   "execution_count": 32,
   "metadata": {},
   "outputs": [
    {
     "name": "stdout",
     "output_type": "stream",
     "text": [
      "tensor([[0., 1., 0., 0., 0., 1., 0., 0., 0., 0.]])\n"
     ]
    }
   ],
   "source": [
    "with torch.no_grad():\n",
    "    repres = encoder.encoder(feats_)\n",
    "    out = model(repres)\n",
    "    out = torch.round(out)\n",
    "print(out)"
   ]
  },
  {
   "cell_type": "code",
   "execution_count": 37,
   "metadata": {},
   "outputs": [],
   "source": [
    "labels_list = df['label1'].unique()\n",
    "labels_list.sort()\n",
    "\n",
    "lab_key = [i for i in range(0, len(labels_list))]\n",
    "lab_dict = {labels_list[i]:lab_key[i] for i in range(0, len(labels_list))}\n",
    "lab_dict['silence'] = 14"
   ]
  },
  {
   "cell_type": "code",
   "execution_count": 43,
   "metadata": {},
   "outputs": [
    {
     "data": {
      "text/plain": [
       "True"
      ]
     },
     "execution_count": 43,
     "metadata": {},
     "output_type": "execute_result"
    }
   ],
   "source": [
    "labels = [0 for i in range(0,15)]\n",
    "len(labels) == len(lab_dict)"
   ]
  },
  {
   "cell_type": "code",
   "execution_count": 44,
   "metadata": {},
   "outputs": [],
   "source": [
    "class sedDataset(Dataset):\n",
    "\n",
    "    def __init__(self, dataframe):\n",
    "        self.dataset_df = dataframe\n",
    "\n",
    "    def __len__(self):\n",
    "        return len(self.dataset_df)\n",
    "    \n",
    "    def __getitem__(self, index):\n",
    "\n",
    "        fil_list = [self.dataset_df.iloc[index, 0], self.dataset_df.iloc[index, 1]]\n",
    "        lab1 = lab_dict[self.dataset_df.iloc[index, 2]]\n",
    "        lab2 = lab_dict[self.dataset_df.iloc[index, 3]]\n",
    "        \n",
    "        noise = audio_utils.add_two_noise(fil_list, [5])\n",
    "        feats = audio_utils.get_random_audioFeatures(noise)\n",
    "        \n",
    "        if torch.isnan(noise).any():\n",
    "            noise = torch.zeros(noise.shape)\n",
    "            lab1 = lab_dict['silence']\n",
    "            lab2 = lab_dict['silence']\n",
    "            feats = torch.zeros(feats.shape)\n",
    "            \n",
    "               \n",
    "        labels = [0 for i in range(0,15)]\n",
    "        labels[lab1] = 1\n",
    "        labels[lab2] = 1\n",
    "        labels = torch.Tensor(labels)\n",
    "        \n",
    "        return feats, labels"
   ]
  },
  {
   "cell_type": "code",
   "execution_count": 45,
   "metadata": {},
   "outputs": [],
   "source": [
    "split = (int)(len(df)*0.8)\n",
    "\n",
    "train_dataset = sedDataset(df[0:split])\n",
    "test_dataset = sedDataset(df[split:])\n",
    "\n",
    "train_loader = DataLoader(train_dataset, batch_size=8, shuffle=True)\n",
    "test_loader = DataLoader(test_dataset, batch_size=8, shuffle=True)"
   ]
  },
  {
   "cell_type": "code",
   "execution_count": 48,
   "metadata": {},
   "outputs": [],
   "source": [
    "torch.manual_seed(13)\n",
    "torch.cuda.manual_seed(13)\n",
    "\n",
    "class AEDClassifier(nn.Module):\n",
    "\n",
    "    def __init__(self):\n",
    "        super(AEDClassifier, self).__init__()\n",
    "\n",
    "        self.classifier = nn.Sequential(\n",
    "            nn.Conv2d(16, 8, kernel_size=2, stride=1, padding=1),\n",
    "            nn.ReLU(),\n",
    "            nn.Conv2d(8, 4, kernel_size=2, stride=1, padding=1),\n",
    "            nn.ReLU(),\n",
    "            nn.Conv2d(4, 1, kernel_size=2, stride=1, padding=1),\n",
    "            nn.ReLU(),\n",
    "            nn.Flatten(),\n",
    "            nn.Linear(858, 200),\n",
    "            nn.ReLU(),\n",
    "            nn.Linear(200, 15)\n",
    "        )\n",
    "        self.sigmoid = nn.Sigmoid()\n",
    "\n",
    "    def forward(self, x):\n",
    "        x = self.classifier(x)\n",
    "        y = self.sigmoid(x)\n",
    "\n",
    "        return y"
   ]
  },
  {
   "cell_type": "code",
   "execution_count": 49,
   "metadata": {},
   "outputs": [
    {
     "data": {
      "text/plain": [
       "tensor([[0.4878, 0.5069, 0.5038, 0.4900, 0.4961, 0.4953, 0.4958, 0.4990, 0.5140,\n",
       "         0.5004, 0.5039, 0.4983, 0.4886, 0.5074, 0.5039]],\n",
       "       grad_fn=<SigmoidBackward0>)"
      ]
     },
     "execution_count": 49,
     "metadata": {},
     "output_type": "execute_result"
    }
   ],
   "source": [
    "sas = torch.rand([16,10,63])\n",
    "\n",
    "AEDClassifier()(sas)"
   ]
  },
  {
   "cell_type": "code",
   "execution_count": 50,
   "metadata": {},
   "outputs": [],
   "source": [
    "sed_classifier = AEDClassifier()\n",
    "device = 'cuda:1' if torch.cuda.is_available() else 'cpu'\n",
    "\n",
    "#loss_fn = nn.CrossEntropyLoss().to(device)\n",
    "loss_fn = nn.BCELoss().to(device)\n",
    "optimizer = optim.Adam(sed_classifier.parameters(), lr=0.001)"
   ]
  },
  {
   "cell_type": "code",
   "execution_count": 51,
   "metadata": {},
   "outputs": [
    {
     "name": "stdout",
     "output_type": "stream",
     "text": [
      "Epoch [1/10] Loss: [0.2710163162834942]\n",
      "Epoch [2/10] Loss: [0.14383303261827676]\n",
      "Epoch [3/10] Loss: [0.0868938651739154]\n",
      "Epoch [4/10] Loss: [0.05759470409015194]\n",
      "Epoch [5/10] Loss: [0.045755484313995114]\n",
      "Epoch [6/10] Loss: [0.038500604006039794]\n",
      "Epoch [7/10] Loss: [0.03286746108191437]\n",
      "Epoch [8/10] Loss: [0.027707441074126107]\n",
      "Epoch [9/10] Loss: [0.024660150957970473]\n",
      "Epoch [10/10] Loss: [0.02341008017578133]\n"
     ]
    }
   ],
   "source": [
    "import statistics\n",
    "\n",
    "sed_classifier = sed_classifier.to(device)\n",
    "encoder = encoder.to(device)\n",
    "\n",
    "epochs = 10\n",
    "\n",
    "for epoch in range(0, epochs):\n",
    "    loc_list = []\n",
    "    \n",
    "    for data in train_loader:\n",
    "        sed_classifier.train()\n",
    "        optimizer.zero_grad()\n",
    "        inputs, labes = data\n",
    "\n",
    "        inputs = inputs.to(device)\n",
    "        encoder.eval()\n",
    "        with torch.no_grad():\n",
    "            preds = encoder.encoder(inputs)\n",
    "        input = preds\n",
    "        if not torch.isnan(input).any():\n",
    "            labes = labes.to(device)\n",
    "\n",
    "            output = sed_classifier(input)\n",
    "            #print(output.shape, labes.shape)\n",
    "            loss = loss_fn(output, labes)\n",
    "\n",
    "            if not torch.isnan(loss).any():\n",
    "                loss.backward()\n",
    "                optimizer.step()\n",
    "                loc_list.append(loss.item())    \n",
    "\n",
    "    print(f\"Epoch [{epoch+1}/{epochs}] Loss: [{statistics.mean(loc_list)}]\")"
   ]
  },
  {
   "cell_type": "code",
   "execution_count": 55,
   "metadata": {},
   "outputs": [],
   "source": [
    "## Evaluation\n",
    "import sklearn.metrics\n",
    "encoder = encoder.to('cpu')\n",
    "sed_classifier = sed_classifier.to('cpu')\n",
    "y_true = []\n",
    "y_preds = []\n",
    "\n",
    "for data in test_loader:\n",
    "\n",
    "    input, label = data\n",
    "    y_true.append(label.numpy())\n",
    "\n",
    "    with torch.no_grad():\n",
    "        repr = encoder.encoder(input)\n",
    "        out = sed_classifier(repr)\n",
    "        y_preds.append(torch.round(out).numpy())\n",
    "\n",
    "#print(sklearn.metrics.accuracy_score(y_true, y_preds))"
   ]
  },
  {
   "cell_type": "code",
   "execution_count": 56,
   "metadata": {},
   "outputs": [],
   "source": [
    "yy = np.concatenate(y_true)\n",
    "yp = np.concatenate(y_preds)\n",
    "\n",
    "'''conf_mat = sklearn.metrics.multilabel_confusion_matrix(yy, yp)\n",
    "for i, confusion_matrix in enumerate(conf_mat):\n",
    "    print(f'Confusion Matrix for Label {i}:')\n",
    "    print(confusion_matrix)\n",
    "    print('\\n')\n",
    "'''\n",
    "from sklearn.metrics import confusion_matrix, ConfusionMatrixDisplay\n",
    "import matplotlib.pyplot as plt\n"
   ]
  },
  {
   "cell_type": "code",
   "execution_count": 62,
   "metadata": {},
   "outputs": [
    {
     "data": {
      "text/plain": [
       "array(['alarm', 'baby', 'crash', 'dog', 'engine', 'femaleScream',\n",
       "       'femaleSpeech', 'fire', 'footsteps', 'knock', 'maleScream',\n",
       "       'maleSpeech', 'phone', 'piano', 'silence'], dtype=object)"
      ]
     },
     "execution_count": 62,
     "metadata": {},
     "output_type": "execute_result"
    }
   ],
   "source": [
    "labels_list = np.append(labels_list, 'silence')\n",
    "labels_list"
   ]
  },
  {
   "cell_type": "code",
   "execution_count": 63,
   "metadata": {},
   "outputs": [
    {
     "name": "stderr",
     "output_type": "stream",
     "text": [
      "/work/dpandya/miniconda3/envs/noiseremoval/lib/python3.11/site-packages/sklearn/metrics/_classification.py:1469: UndefinedMetricWarning: Precision and F-score are ill-defined and being set to 0.0 in labels with no predicted samples. Use `zero_division` parameter to control this behavior.\n",
      "  _warn_prf(average, modifier, msg_start, len(result))\n",
      "/work/dpandya/miniconda3/envs/noiseremoval/lib/python3.11/site-packages/sklearn/metrics/_classification.py:1469: UndefinedMetricWarning: Recall and F-score are ill-defined and being set to 0.0 in labels with no true samples. Use `zero_division` parameter to control this behavior.\n",
      "  _warn_prf(average, modifier, msg_start, len(result))\n",
      "/work/dpandya/miniconda3/envs/noiseremoval/lib/python3.11/site-packages/sklearn/metrics/_classification.py:1469: UndefinedMetricWarning: Precision and F-score are ill-defined and being set to 0.0 in samples with no predicted labels. Use `zero_division` parameter to control this behavior.\n",
      "  _warn_prf(average, modifier, msg_start, len(result))\n"
     ]
    }
   ],
   "source": [
    "save_dict = sklearn.metrics.classification_report(yy, yp, target_names=labels_list, output_dict=True)"
   ]
  },
  {
   "cell_type": "code",
   "execution_count": 64,
   "metadata": {},
   "outputs": [],
   "source": [
    "report_df = pd.DataFrame(save_dict).transpose()\n",
    "\n",
    "report_df.to_csv('results/AE_fullClassifier_model_01_results.csv', index=False)"
   ]
  },
  {
   "cell_type": "code",
   "execution_count": 66,
   "metadata": {},
   "outputs": [
    {
     "data": {
      "text/html": [
       "<div>\n",
       "<style scoped>\n",
       "    .dataframe tbody tr th:only-of-type {\n",
       "        vertical-align: middle;\n",
       "    }\n",
       "\n",
       "    .dataframe tbody tr th {\n",
       "        vertical-align: top;\n",
       "    }\n",
       "\n",
       "    .dataframe thead th {\n",
       "        text-align: right;\n",
       "    }\n",
       "</style>\n",
       "<table border=\"1\" class=\"dataframe\">\n",
       "  <thead>\n",
       "    <tr style=\"text-align: right;\">\n",
       "      <th></th>\n",
       "      <th>precision</th>\n",
       "      <th>recall</th>\n",
       "      <th>f1-score</th>\n",
       "      <th>support</th>\n",
       "    </tr>\n",
       "  </thead>\n",
       "  <tbody>\n",
       "    <tr>\n",
       "      <th>alarm</th>\n",
       "      <td>0.849372</td>\n",
       "      <td>0.867521</td>\n",
       "      <td>0.858351</td>\n",
       "      <td>234.0</td>\n",
       "    </tr>\n",
       "    <tr>\n",
       "      <th>baby</th>\n",
       "      <td>0.900474</td>\n",
       "      <td>0.848214</td>\n",
       "      <td>0.873563</td>\n",
       "      <td>224.0</td>\n",
       "    </tr>\n",
       "    <tr>\n",
       "      <th>crash</th>\n",
       "      <td>0.953608</td>\n",
       "      <td>0.745968</td>\n",
       "      <td>0.837104</td>\n",
       "      <td>248.0</td>\n",
       "    </tr>\n",
       "    <tr>\n",
       "      <th>dog</th>\n",
       "      <td>0.868263</td>\n",
       "      <td>0.714286</td>\n",
       "      <td>0.783784</td>\n",
       "      <td>203.0</td>\n",
       "    </tr>\n",
       "    <tr>\n",
       "      <th>engine</th>\n",
       "      <td>0.790123</td>\n",
       "      <td>0.927536</td>\n",
       "      <td>0.853333</td>\n",
       "      <td>207.0</td>\n",
       "    </tr>\n",
       "    <tr>\n",
       "      <th>femaleScream</th>\n",
       "      <td>0.884444</td>\n",
       "      <td>0.884444</td>\n",
       "      <td>0.884444</td>\n",
       "      <td>225.0</td>\n",
       "    </tr>\n",
       "    <tr>\n",
       "      <th>femaleSpeech</th>\n",
       "      <td>0.968750</td>\n",
       "      <td>0.953846</td>\n",
       "      <td>0.961240</td>\n",
       "      <td>260.0</td>\n",
       "    </tr>\n",
       "    <tr>\n",
       "      <th>fire</th>\n",
       "      <td>0.921788</td>\n",
       "      <td>0.705128</td>\n",
       "      <td>0.799031</td>\n",
       "      <td>234.0</td>\n",
       "    </tr>\n",
       "    <tr>\n",
       "      <th>footsteps</th>\n",
       "      <td>0.915888</td>\n",
       "      <td>0.841202</td>\n",
       "      <td>0.876957</td>\n",
       "      <td>233.0</td>\n",
       "    </tr>\n",
       "    <tr>\n",
       "      <th>knock</th>\n",
       "      <td>0.880383</td>\n",
       "      <td>0.814159</td>\n",
       "      <td>0.845977</td>\n",
       "      <td>226.0</td>\n",
       "    </tr>\n",
       "    <tr>\n",
       "      <th>maleScream</th>\n",
       "      <td>0.973118</td>\n",
       "      <td>0.773504</td>\n",
       "      <td>0.861905</td>\n",
       "      <td>234.0</td>\n",
       "    </tr>\n",
       "    <tr>\n",
       "      <th>maleSpeech</th>\n",
       "      <td>0.990698</td>\n",
       "      <td>0.898734</td>\n",
       "      <td>0.942478</td>\n",
       "      <td>237.0</td>\n",
       "    </tr>\n",
       "    <tr>\n",
       "      <th>phone</th>\n",
       "      <td>0.964706</td>\n",
       "      <td>0.716157</td>\n",
       "      <td>0.822055</td>\n",
       "      <td>229.0</td>\n",
       "    </tr>\n",
       "    <tr>\n",
       "      <th>piano</th>\n",
       "      <td>0.843902</td>\n",
       "      <td>0.839806</td>\n",
       "      <td>0.841849</td>\n",
       "      <td>206.0</td>\n",
       "    </tr>\n",
       "    <tr>\n",
       "      <th>silence</th>\n",
       "      <td>0.000000</td>\n",
       "      <td>0.000000</td>\n",
       "      <td>0.000000</td>\n",
       "      <td>0.0</td>\n",
       "    </tr>\n",
       "    <tr>\n",
       "      <th>micro avg</th>\n",
       "      <td>0.905596</td>\n",
       "      <td>0.824375</td>\n",
       "      <td>0.863079</td>\n",
       "      <td>3200.0</td>\n",
       "    </tr>\n",
       "    <tr>\n",
       "      <th>macro avg</th>\n",
       "      <td>0.847035</td>\n",
       "      <td>0.768700</td>\n",
       "      <td>0.802805</td>\n",
       "      <td>3200.0</td>\n",
       "    </tr>\n",
       "    <tr>\n",
       "      <th>weighted avg</th>\n",
       "      <td>0.910305</td>\n",
       "      <td>0.824375</td>\n",
       "      <td>0.861883</td>\n",
       "      <td>3200.0</td>\n",
       "    </tr>\n",
       "    <tr>\n",
       "      <th>samples avg</th>\n",
       "      <td>0.925833</td>\n",
       "      <td>0.824375</td>\n",
       "      <td>0.851333</td>\n",
       "      <td>3200.0</td>\n",
       "    </tr>\n",
       "  </tbody>\n",
       "</table>\n",
       "</div>"
      ],
      "text/plain": [
       "              precision    recall  f1-score  support\n",
       "alarm          0.849372  0.867521  0.858351    234.0\n",
       "baby           0.900474  0.848214  0.873563    224.0\n",
       "crash          0.953608  0.745968  0.837104    248.0\n",
       "dog            0.868263  0.714286  0.783784    203.0\n",
       "engine         0.790123  0.927536  0.853333    207.0\n",
       "femaleScream   0.884444  0.884444  0.884444    225.0\n",
       "femaleSpeech   0.968750  0.953846  0.961240    260.0\n",
       "fire           0.921788  0.705128  0.799031    234.0\n",
       "footsteps      0.915888  0.841202  0.876957    233.0\n",
       "knock          0.880383  0.814159  0.845977    226.0\n",
       "maleScream     0.973118  0.773504  0.861905    234.0\n",
       "maleSpeech     0.990698  0.898734  0.942478    237.0\n",
       "phone          0.964706  0.716157  0.822055    229.0\n",
       "piano          0.843902  0.839806  0.841849    206.0\n",
       "silence        0.000000  0.000000  0.000000      0.0\n",
       "micro avg      0.905596  0.824375  0.863079   3200.0\n",
       "macro avg      0.847035  0.768700  0.802805   3200.0\n",
       "weighted avg   0.910305  0.824375  0.861883   3200.0\n",
       "samples avg    0.925833  0.824375  0.851333   3200.0"
      ]
     },
     "execution_count": 66,
     "metadata": {},
     "output_type": "execute_result"
    }
   ],
   "source": [
    "report_df"
   ]
  },
  {
   "cell_type": "code",
   "execution_count": 65,
   "metadata": {},
   "outputs": [],
   "source": [
    "import json\n",
    "\n",
    "with open('results/AE_fullClassifier_model_01_results.json', 'w') as fp:\n",
    "    json.dump(save_dict, fp, indent=2)"
   ]
  },
  {
   "cell_type": "code",
   "execution_count": 22,
   "metadata": {},
   "outputs": [
    {
     "data": {
      "text/plain": [
       "{'alarm': {'precision': 0.9,\n",
       "  'recall': 0.8411214953271028,\n",
       "  'f1-score': 0.8695652173913043,\n",
       "  'support': 107.0},\n",
       " 'baby': {'precision': 0.8235294117647058,\n",
       "  'recall': 0.8484848484848485,\n",
       "  'f1-score': 0.8358208955223881,\n",
       "  'support': 99.0},\n",
       " 'crash': {'precision': 0.7906976744186046,\n",
       "  'recall': 0.7472527472527473,\n",
       "  'f1-score': 0.7683615819209039,\n",
       "  'support': 91.0},\n",
       " 'dog': {'precision': 0.7662337662337663,\n",
       "  'recall': 0.6145833333333334,\n",
       "  'f1-score': 0.6820809248554913,\n",
       "  'support': 96.0},\n",
       " 'engine': {'precision': 0.8571428571428571,\n",
       "  'recall': 0.8648648648648649,\n",
       "  'f1-score': 0.8609865470852017,\n",
       "  'support': 111.0},\n",
       " 'fire': {'precision': 0.8620689655172413,\n",
       "  'recall': 0.7211538461538461,\n",
       "  'f1-score': 0.7853403141361256,\n",
       "  'support': 104.0},\n",
       " 'footsteps': {'precision': 0.7640449438202247,\n",
       "  'recall': 0.7311827956989247,\n",
       "  'f1-score': 0.7472527472527474,\n",
       "  'support': 93.0},\n",
       " 'knock': {'precision': 0.9032258064516129,\n",
       "  'recall': 0.7924528301886793,\n",
       "  'f1-score': 0.8442211055276382,\n",
       "  'support': 106.0},\n",
       " 'phone': {'precision': 0.7288135593220338,\n",
       "  'recall': 0.9247311827956989,\n",
       "  'f1-score': 0.8151658767772512,\n",
       "  'support': 93.0},\n",
       " 'piano': {'precision': 0.9583333333333334,\n",
       "  'recall': 0.69,\n",
       "  'f1-score': 0.8023255813953488,\n",
       "  'support': 100.0},\n",
       " 'micro avg': {'precision': 0.8322649572649573,\n",
       "  'recall': 0.779,\n",
       "  'f1-score': 0.8047520661157025,\n",
       "  'support': 1000.0},\n",
       " 'macro avg': {'precision': 0.8354090318004379,\n",
       "  'recall': 0.7775827944100046,\n",
       "  'f1-score': 0.80111207918644,\n",
       "  'support': 1000.0},\n",
       " 'weighted avg': {'precision': 0.8385504808613251,\n",
       "  'recall': 0.779,\n",
       "  'f1-score': 0.8034602464153843,\n",
       "  'support': 1000.0},\n",
       " 'samples avg': {'precision': 0.8661666666666668,\n",
       "  'recall': 0.779,\n",
       "  'f1-score': 0.7965333333333333,\n",
       "  'support': 1000.0}}"
      ]
     },
     "execution_count": 22,
     "metadata": {},
     "output_type": "execute_result"
    }
   ],
   "source": [
    "with open('results/AE_Classifier_model_01_results.json', 'r') as fp:\n",
    "    data = json.load(fp)\n",
    "\n",
    "data"
   ]
  },
  {
   "cell_type": "code",
   "execution_count": 67,
   "metadata": {},
   "outputs": [
    {
     "name": "stdout",
     "output_type": "stream",
     "text": [
      "../audioData/NIGENS/NIGENS/femaleScream/220312__ellenskellington__womanshout.wav ../audioData/NIGENS/NIGENS/knock/DOOR-KNOCK_GEN-HDF-09717.wav\n",
      "tensor([[0., 0., 0., 0., 0., 1., 0., 0., 0., 1., 0., 0., 0., 0., 0.]]) {'alarm': 0, 'baby': 1, 'crash': 2, 'dog': 3, 'engine': 4, 'femaleScream': 5, 'femaleSpeech': 6, 'fire': 7, 'footsteps': 8, 'knock': 9, 'maleScream': 10, 'maleSpeech': 11, 'phone': 12, 'piano': 13, 'silence': 14}\n"
     ]
    }
   ],
   "source": [
    "f1 = random.choice(df['file1'])\n",
    "f2 = random.choice(df['file2'])\n",
    "print(f1,f2)\n",
    "noise = audio_utils.add_two_noise([f1,f2], [5])\n",
    "featss = audio_utils.get_random_audioFeatures(noise)\n",
    "\n",
    "encoder = encoder.cpu()\n",
    "encoder.eval()\n",
    "with torch.no_grad():\n",
    "    repres = encoder.encoder(featss)\n",
    "\n",
    "sed_classifier = sed_classifier.cpu()\n",
    "sed_classifier.eval()\n",
    "with torch.no_grad():\n",
    "    out = sed_classifier(repres)\n",
    "\n",
    "print((torch.round(out)), lab_dict)"
   ]
  },
  {
   "cell_type": "code",
   "execution_count": 68,
   "metadata": {},
   "outputs": [
    {
     "name": "stderr",
     "output_type": "stream",
     "text": [
      "/work/dpandya/miniconda3/envs/noiseremoval/lib/python3.11/site-packages/tqdm/auto.py:21: TqdmWarning: IProgress not found. Please update jupyter and ipywidgets. See https://ipywidgets.readthedocs.io/en/stable/user_install.html\n",
      "  from .autonotebook import tqdm as notebook_tqdm\n"
     ]
    },
    {
     "data": {
      "image/png": "[encoded data removed]",
      "text/plain": [
       "<Figure size 640x480 with 1 Axes>"
      ]
     },
     "metadata": {},
     "output_type": "display_data"
    },
    {
     "data": {
      "image/png": "[encoded data removed]",
      "text/plain": [
       "<Figure size 640x480 with 15 Axes>"
      ]
     },
     "metadata": {},
     "output_type": "display_data"
    }
   ],
   "source": [
    "import torchmetrics\n",
    "acc_list = []\n",
    "sed_classifier = sed_classifier.to('cpu')\n",
    "encoder = encoder.to('cpu')\n",
    "\n",
    "multi_lab_acc = torchmetrics.classification.MultilabelAccuracy(num_labels=len(lab_dict), average=None)\n",
    "conf_mat = torchmetrics.classification.MultilabelConfusionMatrix(num_labels=len(lab_dict))\n",
    "for data in test_loader:\n",
    "\n",
    "    sed_classifier.eval()\n",
    "    encoder.eval()\n",
    "    inpu, labs = data\n",
    "\n",
    "    with torch.no_grad():\n",
    "        repr = encoder.encoder(inpu)\n",
    "        out_ = sed_classifier(repr)\n",
    "        out_ = torch.round(out_)\n",
    "    out_ = out_.to('cpu', torch.int)\n",
    "    labs = labs.to('cpu', torch.int)\n",
    "    multi_lab_acc.update(out_, labs)\n",
    "    conf_mat.update(out_, labs)\n",
    "\n",
    "fig1, ax1 = multi_lab_acc.plot()\n",
    "fig2, ax2 = conf_mat.plot()"
   ]
  },
  {
   "cell_type": "code",
   "execution_count": 69,
   "metadata": {},
   "outputs": [],
   "source": [
    "# AE_classifier_model_00.pt: 10 epochs, conf00\n",
    "# AE_classifier_model_01.pt: 20 epochs, conf00\n",
    "torch.save(sed_classifier.state_dict(), 'models/AE_fullclassifier_model_00.pt')"
   ]
  }
 ],
 "metadata": {
  "kernelspec": {
   "display_name": "noiseremoval",
   "language": "python",
   "name": "python3"
  },
  "language_info": {
   "codemirror_mode": {
    "name": "ipython",
    "version": 3
   },
   "file_extension": ".py",
   "mimetype": "text/x-python",
   "name": "python",
   "nbconvert_exporter": "python",
   "pygments_lexer": "ipython3",
   "version": "3.11.5"
  }
 },
 "nbformat": 4,
 "nbformat_minor": 2
}
